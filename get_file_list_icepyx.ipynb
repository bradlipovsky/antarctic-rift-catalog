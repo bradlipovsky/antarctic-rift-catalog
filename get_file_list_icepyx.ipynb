{
 "cells": [
  {
   "cell_type": "code",
   "execution_count": 2,
   "metadata": {},
   "outputs": [
    {
     "name": "stdout",
     "output_type": "stream",
     "text": [
      "1742\n"
     ]
    }
   ],
   "source": [
    "import s3fs\n",
    "import h5py\n",
    "import icepyx as ipx\n",
    "\n",
    "s3 = s3fs.S3FileSystem(anon=True)\n",
    "s3path = 's3://its-live-data.jpl.nasa.gov/icesat2/alt06/rel003/'\n",
    "\n",
    "short_name = 'ATL06'\n",
    "\n",
    "# spatial_extent = [-26.5, -75.8, -24.5, -75.3] # Brunt\n",
    "# spatial_extent = [-27.8, -76.1, -23.1, -75.2] # Bigger Brunt\n",
    "spatial_extent = [-27.8, -76.1, -3.0, -70.2] # brunt-riiser-ekstrom\n",
    "# spatial_extent = [-3.0,-71.5, 39.5, -68.6] # Fimbul\n",
    "# spatial_extent = [67.6, -72.44,74.87,-68.39] # Amery\n",
    "# spatial_extent = [159, -86, 180, -69] # East Ross\n",
    "# spatial_extent = [-180, -86, -140, -77] # West Ross\n",
    "# spatial_extent = [-65.5,-68.7,-60.2,-66] # Larsen C\n",
    "# spatial_extent = [-82.0, 82.4, -79.5, 82.9] # Milne\n",
    "#WSNE\n",
    "\n",
    "date_range = ['2018-10-14','2020-12-01']\n",
    "region_a = ipx.Query(short_name, spatial_extent, date_range)\n",
    "\n",
    "granules=region_a.granules.avail\n",
    "\n",
    "file_list = []\n",
    "for f in granules: \n",
    "    file_list.append(s3path + f['producer_granule_id'])\n",
    "print(len(file_list))"
   ]
  },
  {
   "cell_type": "code",
   "execution_count": 16,
   "metadata": {},
   "outputs": [
    {
     "name": "stdout",
     "output_type": "stream",
     "text": [
      "CPU times: user 54.1 ms, sys: 4.46 ms, total: 58.6 ms\n",
      "Wall time: 291 ms\n"
     ]
    }
   ],
   "source": [
    "%time f =h5py.File(s3.open(file_list[100],'rb'),'r')"
   ]
  },
  {
   "cell_type": "code",
   "execution_count": 17,
   "metadata": {},
   "outputs": [
    {
     "name": "stdout",
     "output_type": "stream",
     "text": [
      "CPU times: user 935 µs, sys: 0 ns, total: 935 µs\n",
      "Wall time: 3.13 ms\n"
     ]
    },
    {
     "data": {
      "text/plain": [
       "['bias_correction',\n",
       " 'dem',\n",
       " 'fit_statistics',\n",
       " 'geophysical',\n",
       " 'ground_track',\n",
       " 'atl06_quality_summary',\n",
       " 'delta_time',\n",
       " 'h_li',\n",
       " 'h_li_sigma',\n",
       " 'latitude',\n",
       " 'longitude',\n",
       " 'segment_id',\n",
       " 'sigma_geo_h']"
      ]
     },
     "execution_count": 17,
     "metadata": {},
     "output_type": "execute_result"
    }
   ],
   "source": [
    "%time list(f['/gt1l/land_ice_segments'])"
   ]
  },
  {
   "cell_type": "code",
   "execution_count": null,
   "metadata": {},
   "outputs": [],
   "source": []
  }
 ],
 "metadata": {
  "kernelspec": {
   "display_name": "Python 3",
   "language": "python",
   "name": "python3"
  },
  "language_info": {
   "codemirror_mode": {
    "name": "ipython",
    "version": 3
   },
   "file_extension": ".py",
   "mimetype": "text/x-python",
   "name": "python",
   "nbconvert_exporter": "python",
   "pygments_lexer": "ipython3",
   "version": "3.7.9"
  }
 },
 "nbformat": 4,
 "nbformat_minor": 4
}
