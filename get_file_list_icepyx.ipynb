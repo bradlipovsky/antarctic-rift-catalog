{
 "cells": [
  {
   "cell_type": "code",
   "execution_count": 28,
   "metadata": {},
   "outputs": [],
   "source": [
    "import h5py\n",
    "import icepyx as ipx\n",
    "\n",
    "short_name = 'ATL06'\n",
    "\n",
    "# spatial_extent = [-26.5, -75.8, -24.5, -75.3] # Brunt\n",
    "# spatial_extent = [-27.8, -76.1, -23.1, -75.2] # Bigger Brunt\n",
    "spatial_extent = [-27.8, -76.1, -3.0, -70.2] # brunt-riiser-ekstrom\n",
    "# spatial_extent = [-3.0,-71.5, 39.5, -68.6] # Fimbul\n",
    "# spatial_extent = [67.6, -72.44,74.87,-68.39] # Amery\n",
    "# spatial_extent = [159, -86, 180, -69] # East Ross\n",
    "# spatial_extent = [-180, -86, -140, -77] # West Ross\n",
    "# spatial_extent = [-65.5,-68.7,-60.2,-66] # Larsen C\n",
    "# spatial_extent = [-82.0, 82.4, -79.5, 82.9] # Milne\n",
    "#WSNE\n",
    "\n",
    "date_range = ['2018-10-14','2020-12-01']\n",
    "region_a = ipx.Query(short_name, spatial_extent, date_range)\n",
    "\n",
    "granules=region_a.avail_granules(ids=True)\n",
    "\n"
   ]
  },
  {
   "cell_type": "code",
   "execution_count": 37,
   "metadata": {},
   "outputs": [
    {
     "name": "stdout",
     "output_type": "stream",
     "text": [
      "/data/fast0/ATL06_20181014041230_02370110_004_01.h5\n",
      "CPU times: user 142 µs, sys: 13 µs, total: 155 µs\n",
      "Wall time: 152 µs\n"
     ]
    },
    {
     "name": "stderr",
     "output_type": "stream",
     "text": [
      "<timed exec>:1: H5pyDeprecationWarning: The default file mode will change to 'r' (read-only) in h5py 3.0. To suppress this warning, pass the mode you need to h5py.File(), or set the global default h5.get_config().default_file_mode, or set the environment variable H5PY_DEFAULT_READONLY=1. Available modes are: 'r', 'r+', 'w', 'w-'/'x', 'a'. See the docs for details.\n"
     ]
    }
   ],
   "source": [
    "print('/data/fast0/' + granules[0][0])\n",
    "%time f = h5py.File('/data/fast0/' + granules[0][0])"
   ]
  },
  {
   "cell_type": "code",
   "execution_count": null,
   "metadata": {},
   "outputs": [],
   "source": []
  },
  {
   "cell_type": "code",
   "execution_count": null,
   "metadata": {},
   "outputs": [],
   "source": []
  }
 ],
 "metadata": {
  "kernelspec": {
   "display_name": "Python 3",
   "language": "python",
   "name": "python3"
  },
  "language_info": {
   "codemirror_mode": {
    "name": "ipython",
    "version": 3
   },
   "file_extension": ".py",
   "mimetype": "text/x-python",
   "name": "python",
   "nbconvert_exporter": "python",
   "pygments_lexer": "ipython3",
   "version": "3.8.8"
  }
 },
 "nbformat": 4,
 "nbformat_minor": 4
}
