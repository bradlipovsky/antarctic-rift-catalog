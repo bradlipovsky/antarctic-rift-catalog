{
 "cells": [
  {
   "cell_type": "markdown",
   "metadata": {},
   "source": [
    "# Scripts to do QC on the rift detectors\n",
    "\n",
    "## Load saved pickle of atl06 data"
   ]
  },
  {
   "cell_type": "code",
   "execution_count": 1,
   "metadata": {},
   "outputs": [],
   "source": [
    "import pickle\n",
    "import pandas as pd\n",
    "import numpy as np\n",
    "import os\n",
    "import matplotlib.pyplot as plt\n",
    "\n",
    "dataset_path = '/data/fast0/datasets/'\n",
    "atl06_path = \"/data/fast1/arc/atl06\"\n",
    "output_path = '/data/fast1/arc/rift_obs'\n"
   ]
  },
  {
   "cell_type": "code",
   "execution_count": 2,
   "metadata": {},
   "outputs": [],
   "source": [
    "shelf_name = 'brunt'\n",
    "\n",
    "atl06_file_name = os.path.join(atl06_path, shelf_name + '.pkl')\n",
    "\n",
    "with open(atl06_file_name, 'rb') as handle:\n",
    "    atl06_data = pickle.load(handle)\n",
    "atl06_data = pd.DataFrame(atl06_data)\n",
    "\n",
    "rift_obs_output_file_name = os.path.join(output_path, shelf_name + '.pkl')\n",
    "with open(rift_obs_output_file_name, 'rb') as handle:\n",
    "    rift_obs = pickle.load(handle)"
   ]
  },
  {
   "cell_type": "markdown",
   "metadata": {},
   "source": [
    "## Plot some observations"
   ]
  },
  {
   "cell_type": "code",
   "execution_count": 3,
   "metadata": {},
   "outputs": [],
   "source": [
    "unique_rgts = rift_obs.rgt.unique()\n",
    "\n",
    "plt.subplots(figsize=(15,5))\n",
    "for i, row in atl06_data.iterrows():\n",
    "    these_rifts = rift_obs[rift_obs.data_row==i]\n",
    "    if len(these_rifts)==0:\n",
    "        continue\n",
    "#     print(these_rifts)\n",
    "    d = np.sqrt( row.x**2 + row.y**2 )\n",
    "    plt.scatter(d,row.h)\n",
    "    dr = np.sqrt( these_rifts['x-centroid']**2 + these_rifts['y-centroid']**2 )\n",
    "    plt.scatter(dr,np.zeros_like(dr),c='r')\n",
    "    plt.ylim([-10,50])\n",
    "    break"
   ]
  }
 ],
 "metadata": {
  "kernelspec": {
   "display_name": "Python (Cartopy)",
   "language": "python",
   "name": "cartopy"
  },
  "language_info": {
   "codemirror_mode": {
    "name": "ipython",
    "version": 3
   },
   "file_extension": ".py",
   "mimetype": "text/x-python",
   "name": "python",
   "nbconvert_exporter": "python",
   "pygments_lexer": "ipython3",
   "version": "3.8.2"
  }
 },
 "nbformat": 4,
 "nbformat_minor": 4
}
