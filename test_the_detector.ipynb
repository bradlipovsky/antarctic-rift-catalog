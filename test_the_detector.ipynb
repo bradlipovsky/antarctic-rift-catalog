{
 "cells": [
  {
   "cell_type": "code",
   "execution_count": 2,
   "id": "8d55040c",
   "metadata": {},
   "outputs": [
    {
     "name": "stdout",
     "output_type": "stream",
     "text": [
      "ATL06 data loaded from pickle.\n"
     ]
    }
   ],
   "source": [
    "import numpy as np\n",
    "import os\n",
    "import arc\n",
    "import importlib\n",
    "importlib.reload(arc)\n",
    "import json\n",
    "import pandas as pd\n",
    "import pickle\n",
    "\n",
    "\n",
    "shelf_name='brunt-riiser-ekstrom'\n",
    "\n",
    "atl06_file_name = './atl06_' + shelf_name + '.pkl'\n",
    "atl06_filelist = './filelists/' + shelf_name + '-list.json'\n",
    "dataset_path = '/data/fast0/'\n",
    "\n",
    "\n",
    "# Load data (deserialize)\n",
    "with open(atl06_file_name, 'rb') as handle:\n",
    "    atl06_data = pickle.load(handle)\n",
    "    print('ATL06 data loaded from pickle.')\n",
    "\n"
   ]
  },
  {
   "cell_type": "code",
   "execution_count": 43,
   "id": "7f421f35",
   "metadata": {},
   "outputs": [
    {
     "name": "stdout",
     "output_type": "stream",
     "text": [
      "[(23, 30), (54, 69), (80, 91), (92, 96), (175, 178), (307, 314), (319, 325), (378, 384), (387, 392), (491, 512), (513, 515), (528, 533), (534, 541), (546, 557), (582, 585), (1788, 1789), (2615, 2623)]\n"
     ]
    },
    {
     "data": {
      "text/plain": [
       "(0.0, 300.0)"
      ]
     },
     "execution_count": 43,
     "metadata": {},
     "output_type": "execute_result"
    },
    {
     "data": {
      "image/png": "[encoded data removed]",
      "text/plain": [
       "<Figure size 432x288 with 1 Axes>"
      ]
     },
     "metadata": {
      "needs_background": "light"
     },
     "output_type": "display_data"
    }
   ],
   "source": [
    "# for i, row in atl06_data.iterrows():\n",
    "row = atl06_data.iloc[3]\n",
    "\n",
    "rift_list = arc.find_the_rifts(row['h'])\n",
    "print(rift_list)\n",
    "\n",
    "import matplotlib.pyplot as plt\n",
    "plt.plot(row['h'])\n",
    "plt.ylim((0,300))"
   ]
  },
  {
   "cell_type": "code",
   "execution_count": null,
   "id": "645a6663",
   "metadata": {},
   "outputs": [],
   "source": []
  }
 ],
 "metadata": {
  "kernelspec": {
   "display_name": "Python 3",
   "language": "python",
   "name": "python3"
  },
  "language_info": {
   "codemirror_mode": {
    "name": "ipython",
    "version": 3
   },
   "file_extension": ".py",
   "mimetype": "text/x-python",
   "name": "python",
   "nbconvert_exporter": "python",
   "pygments_lexer": "ipython3",
   "version": "3.9.2"
  }
 },
 "nbformat": 4,
 "nbformat_minor": 5
}
